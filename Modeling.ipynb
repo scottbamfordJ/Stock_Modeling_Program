{
 "cells": [
  {
   "cell_type": "markdown",
   "metadata": {},
   "source": [
    "### The Goal of this model is to get the 100000 Stock outcomes and predict the outcome specifically in terms of seeing / predicting the outcomes using 20% of the total data to make a model prediciting these outcomes "
   ]
  },
  {
   "cell_type": "code",
   "execution_count": 23,
   "metadata": {},
   "outputs": [
    {
     "name": "stdout",
     "output_type": "stream",
     "text": [
      "Requirement already satisfied: quandl in c:\\users\\scott\\anaconda3\\envs\\data science\\lib\\site-packages (3.7.0)\n",
      "Requirement already satisfied: requests>=2.7.0 in c:\\users\\scott\\anaconda3\\envs\\data science\\lib\\site-packages (from quandl) (2.27.1)\n",
      "Requirement already satisfied: numpy>=1.8 in c:\\users\\scott\\anaconda3\\envs\\data science\\lib\\site-packages (from quandl) (1.22.1)\n",
      "Requirement already satisfied: pandas>=0.14 in c:\\users\\scott\\anaconda3\\envs\\data science\\lib\\site-packages (from quandl) (1.4.0)\n",
      "Requirement already satisfied: six in c:\\users\\scott\\anaconda3\\envs\\data science\\lib\\site-packages (from quandl) (1.16.0)\n",
      "Requirement already satisfied: inflection>=0.3.1 in c:\\users\\scott\\anaconda3\\envs\\data science\\lib\\site-packages (from quandl) (0.5.1)\n",
      "Requirement already satisfied: more-itertools in c:\\users\\scott\\anaconda3\\envs\\data science\\lib\\site-packages (from quandl) (8.13.0)\n",
      "Requirement already satisfied: python-dateutil in c:\\users\\scott\\anaconda3\\envs\\data science\\lib\\site-packages (from quandl) (2.8.2)\n",
      "Requirement already satisfied: pytz>=2020.1 in c:\\users\\scott\\anaconda3\\envs\\data science\\lib\\site-packages (from pandas>=0.14->quandl) (2021.3)\n",
      "Requirement already satisfied: charset-normalizer~=2.0.0 in c:\\users\\scott\\anaconda3\\envs\\data science\\lib\\site-packages (from requests>=2.7.0->quandl) (2.0.12)\n",
      "Requirement already satisfied: certifi>=2017.4.17 in c:\\users\\scott\\anaconda3\\envs\\data science\\lib\\site-packages (from requests>=2.7.0->quandl) (2021.10.8)\n",
      "Requirement already satisfied: urllib3<1.27,>=1.21.1 in c:\\users\\scott\\anaconda3\\envs\\data science\\lib\\site-packages (from requests>=2.7.0->quandl) (1.26.9)\n",
      "Requirement already satisfied: idna<4,>=2.5 in c:\\users\\scott\\anaconda3\\envs\\data science\\lib\\site-packages (from requests>=2.7.0->quandl) (3.3)\n",
      "Note: you may need to restart the kernel to use updated packages.\n",
      "Requirement already satisfied: pandas-datareader in c:\\users\\scott\\anaconda3\\envs\\data science\\lib\\site-packages (0.10.0)\n",
      "Requirement already satisfied: requests>=2.19.0 in c:\\users\\scott\\anaconda3\\envs\\data science\\lib\\site-packages (from pandas-datareader) (2.27.1)\n",
      "Requirement already satisfied: pandas>=0.23 in c:\\users\\scott\\anaconda3\\envs\\data science\\lib\\site-packages (from pandas-datareader) (1.4.0)\n",
      "Requirement already satisfied: lxml in c:\\users\\scott\\anaconda3\\envs\\data science\\lib\\site-packages (from pandas-datareader) (4.8.0)\n",
      "Requirement already satisfied: python-dateutil>=2.8.1 in c:\\users\\scott\\anaconda3\\envs\\data science\\lib\\site-packages (from pandas>=0.23->pandas-datareader) (2.8.2)\n",
      "Requirement already satisfied: numpy>=1.18.5 in c:\\users\\scott\\anaconda3\\envs\\data science\\lib\\site-packages (from pandas>=0.23->pandas-datareader) (1.22.1)\n",
      "Requirement already satisfied: pytz>=2020.1 in c:\\users\\scott\\anaconda3\\envs\\data science\\lib\\site-packages (from pandas>=0.23->pandas-datareader) (2021.3)\n",
      "Requirement already satisfied: six>=1.5 in c:\\users\\scott\\anaconda3\\envs\\data science\\lib\\site-packages (from python-dateutil>=2.8.1->pandas>=0.23->pandas-datareader) (1.16.0)\n",
      "Requirement already satisfied: urllib3<1.27,>=1.21.1 in c:\\users\\scott\\anaconda3\\envs\\data science\\lib\\site-packages (from requests>=2.19.0->pandas-datareader) (1.26.9)\n",
      "Requirement already satisfied: certifi>=2017.4.17 in c:\\users\\scott\\anaconda3\\envs\\data science\\lib\\site-packages (from requests>=2.19.0->pandas-datareader) (2021.10.8)\n",
      "Requirement already satisfied: charset-normalizer~=2.0.0 in c:\\users\\scott\\anaconda3\\envs\\data science\\lib\\site-packages (from requests>=2.19.0->pandas-datareader) (2.0.12)\n",
      "Requirement already satisfied: idna<4,>=2.5 in c:\\users\\scott\\anaconda3\\envs\\data science\\lib\\site-packages (from requests>=2.19.0->pandas-datareader) (3.3)\n",
      "Note: you may need to restart the kernel to use updated packages.\n",
      "Requirement already satisfied: beautifulsoup4 in c:\\users\\scott\\anaconda3\\envs\\data science\\lib\\site-packages (4.10.0)\n",
      "Requirement already satisfied: soupsieve>1.2 in c:\\users\\scott\\anaconda3\\envs\\data science\\lib\\site-packages (from beautifulsoup4) (2.3.1)\n",
      "Note: you may need to restart the kernel to use updated packages.\n",
      "Requirement already satisfied: requests in c:\\users\\scott\\anaconda3\\envs\\data science\\lib\\site-packages (2.27.1)\n",
      "Requirement already satisfied: idna<4,>=2.5 in c:\\users\\scott\\anaconda3\\envs\\data science\\lib\\site-packages (from requests) (3.3)\n",
      "Requirement already satisfied: certifi>=2017.4.17 in c:\\users\\scott\\anaconda3\\envs\\data science\\lib\\site-packages (from requests) (2021.10.8)\n",
      "Requirement already satisfied: charset-normalizer~=2.0.0 in c:\\users\\scott\\anaconda3\\envs\\data science\\lib\\site-packages (from requests) (2.0.12)\n",
      "Requirement already satisfied: urllib3<1.27,>=1.21.1 in c:\\users\\scott\\anaconda3\\envs\\data science\\lib\\site-packages (from requests) (1.26.9)\n",
      "Note: you may need to restart the kernel to use updated packages.\n"
     ]
    }
   ],
   "source": [
    "%pip install quandl\n",
    "%pip install pandas-datareader\n",
    "%pip install beautifulsoup4 \n",
    "%pip install requests\n"
   ]
  },
  {
   "cell_type": "code",
   "execution_count": 2,
   "metadata": {},
   "outputs": [],
   "source": [
    "import pandas as pd\n",
    "import pandas_datareader as pdr\n",
    "from bs4 import BeautifulSoup as bs\n",
    "import requests\n",
    "import nasdaqdatalink\n",
    "import os\n"
   ]
  },
  {
   "cell_type": "code",
   "execution_count": 5,
   "metadata": {},
   "outputs": [
    {
     "data": {
      "text/plain": [
       "'c:\\\\Users\\\\scott\\\\Documents\\\\New folder\\\\Stock_Modeling_Program'"
      ]
     },
     "execution_count": 5,
     "metadata": {},
     "output_type": "execute_result"
    }
   ],
   "source": [
    "os.getcwd()"
   ]
  },
  {
   "cell_type": "code",
   "execution_count": null,
   "metadata": {},
   "outputs": [],
   "source": []
  },
  {
   "cell_type": "code",
   "execution_count": null,
   "metadata": {},
   "outputs": [],
   "source": [
    "nasdaqdatalink.ApiConfig.api_key ='Htm5-_xYZVFzDosJMtWE'"
   ]
  },
  {
   "cell_type": "code",
   "execution_count": 10,
   "metadata": {},
   "outputs": [],
   "source": [
    "nasdaqdatalink.read_key('C:\\\\Users\\\\scott\\\\anaconda3\\\\envs\\\\Data Science\\\\.apifordata_link_apikey')"
   ]
  },
  {
   "cell_type": "code",
   "execution_count": 11,
   "metadata": {},
   "outputs": [],
   "source": [
    "data = nasdaqdatalink.get_table('MER/F1', paginate=True)"
   ]
  }
 ],
 "metadata": {
  "interpreter": {
   "hash": "f1600b08eb054f89f1d3fd7d41e80cbb6cb92b16b32be617c82557d838b2f27c"
  },
  "kernelspec": {
   "display_name": "Python 3.8.12 ('Data Science')",
   "language": "python",
   "name": "python3"
  },
  "language_info": {
   "codemirror_mode": {
    "name": "ipython",
    "version": 3
   },
   "file_extension": ".py",
   "mimetype": "text/x-python",
   "name": "python",
   "nbconvert_exporter": "python",
   "pygments_lexer": "ipython3",
   "version": "3.8.12"
  },
  "orig_nbformat": 4
 },
 "nbformat": 4,
 "nbformat_minor": 2
}
