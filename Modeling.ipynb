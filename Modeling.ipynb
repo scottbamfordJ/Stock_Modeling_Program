{
 "cells": [
  {
   "cell_type": "markdown",
   "metadata": {},
   "source": [
    "### The Goal of this model is to get the 100000 Stock outcomes and predict the outcome specifically in terms of seeing / predicting the outcomes using 20% of the total data to make a model prediciting these outcomes "
   ]
  },
  {
   "cell_type": "code",
   "execution_count": 19,
   "metadata": {},
   "outputs": [
    {
     "name": "stdout",
     "output_type": "stream",
     "text": [
      "Collecting yfinance\n",
      "  Downloading yfinance-0.1.70-py2.py3-none-any.whl (26 kB)\n",
      "Requirement already satisfied: lxml>=4.5.1 in c:\\users\\scott\\anaconda3\\envs\\data science\\lib\\site-packages (from yfinance) (4.8.0)\n",
      "Requirement already satisfied: requests>=2.26 in c:\\users\\scott\\anaconda3\\envs\\data science\\lib\\site-packages (from yfinance) (2.27.1)\n",
      "Collecting multitasking>=0.0.7\n",
      "  Downloading multitasking-0.0.10.tar.gz (8.2 kB)\n",
      "Requirement already satisfied: pandas>=0.24.0 in c:\\users\\scott\\anaconda3\\envs\\data science\\lib\\site-packages (from yfinance) (1.4.0)\n",
      "Requirement already satisfied: numpy>=1.15 in c:\\users\\scott\\anaconda3\\envs\\data science\\lib\\site-packages (from yfinance) (1.22.1)\n",
      "Requirement already satisfied: pytz>=2020.1 in c:\\users\\scott\\anaconda3\\envs\\data science\\lib\\site-packages (from pandas>=0.24.0->yfinance) (2021.3)\n",
      "Requirement already satisfied: python-dateutil>=2.8.1 in c:\\users\\scott\\anaconda3\\envs\\data science\\lib\\site-packages (from pandas>=0.24.0->yfinance) (2.8.2)\n",
      "Requirement already satisfied: six>=1.5 in c:\\users\\scott\\anaconda3\\envs\\data science\\lib\\site-packages (from python-dateutil>=2.8.1->pandas>=0.24.0->yfinance) (1.16.0)\n",
      "Requirement already satisfied: urllib3<1.27,>=1.21.1 in c:\\users\\scott\\anaconda3\\envs\\data science\\lib\\site-packages (from requests>=2.26->yfinance) (1.26.9)\n",
      "Requirement already satisfied: certifi>=2017.4.17 in c:\\users\\scott\\anaconda3\\envs\\data science\\lib\\site-packages (from requests>=2.26->yfinance) (2021.10.8)\n",
      "Requirement already satisfied: charset-normalizer~=2.0.0 in c:\\users\\scott\\anaconda3\\envs\\data science\\lib\\site-packages (from requests>=2.26->yfinance) (2.0.12)\n",
      "Requirement already satisfied: idna<4,>=2.5 in c:\\users\\scott\\anaconda3\\envs\\data science\\lib\\site-packages (from requests>=2.26->yfinance) (3.3)\n",
      "Building wheels for collected packages: multitasking\n",
      "  Building wheel for multitasking (setup.py): started\n",
      "  Building wheel for multitasking (setup.py): finished with status 'done'\n",
      "  Created wheel for multitasking: filename=multitasking-0.0.10-py3-none-any.whl size=8500 sha256=2e52f27278b524d00d59b898ad33aa905487b8ab83b0a9dfe337a4b859a003d7\n",
      "  Stored in directory: c:\\users\\scott\\appdata\\local\\pip\\cache\\wheels\\21\\c9\\66\\b41c847de65c7985db52ec21d59996841598b8b0e93f2b9500\n",
      "Successfully built multitasking\n",
      "Installing collected packages: multitasking, yfinance\n",
      "Successfully installed multitasking-0.0.10 yfinance-0.1.70\n",
      "Note: you may need to restart the kernel to use updated packages.\n"
     ]
    }
   ],
   "source": [
    "%pip install yfinance"
   ]
  },
  {
   "cell_type": "code",
   "execution_count": null,
   "metadata": {},
   "outputs": [],
   "source": []
  },
  {
   "cell_type": "code",
   "execution_count": 1,
   "metadata": {},
   "outputs": [],
   "source": [
    "import pandas as pd\n",
    "import pandas_datareader as pdr\n",
    "from bs4 import BeautifulSoup as bs\n",
    "import requests\n",
    "import nasdaqdatalink\n",
    "import os\n",
    "import yfinanc\n"
   ]
  },
  {
   "cell_type": "code",
   "execution_count": 2,
   "metadata": {},
   "outputs": [],
   "source": [
    "nasdaqdatalink.read_key('C:\\\\Users\\\\scott\\\\anaconda3\\\\envs\\\\Data Science\\\\.apifordata_link_apikey')"
   ]
  },
  {
   "cell_type": "code",
   "execution_count": 18,
   "metadata": {},
   "outputs": [],
   "source": [
    "data = nasdaqdatalink.get_table('MER/F1', paginate=True)\n"
   ]
  },
  {
   "cell_type": "code",
   "execution_count": 16,
   "metadata": {},
   "outputs": [],
   "source": [
    "mydata = nasdaqdatalink.get_table('MER/F1', ticker='MAR')"
   ]
  },
  {
   "cell_type": "code",
   "execution_count": 17,
   "metadata": {},
   "outputs": [
    {
     "data": {
      "text/html": [
       "<div>\n",
       "<style scoped>\n",
       "    .dataframe tbody tr th:only-of-type {\n",
       "        vertical-align: middle;\n",
       "    }\n",
       "\n",
       "    .dataframe tbody tr th {\n",
       "        vertical-align: top;\n",
       "    }\n",
       "\n",
       "    .dataframe thead th {\n",
       "        text-align: right;\n",
       "    }\n",
       "</style>\n",
       "<table border=\"1\" class=\"dataframe\">\n",
       "  <thead>\n",
       "    <tr style=\"text-align: right;\">\n",
       "      <th></th>\n",
       "      <th>compnumber</th>\n",
       "      <th>reportid</th>\n",
       "      <th>mapcode</th>\n",
       "      <th>amount</th>\n",
       "      <th>reportdate</th>\n",
       "      <th>reporttype</th>\n",
       "      <th>auditorstatus</th>\n",
       "      <th>currency</th>\n",
       "      <th>consolidated</th>\n",
       "      <th>longname</th>\n",
       "      <th>...</th>\n",
       "      <th>city</th>\n",
       "      <th>statecode</th>\n",
       "      <th>country</th>\n",
       "      <th>zipcode</th>\n",
       "      <th>phonenumber</th>\n",
       "      <th>faxnumber</th>\n",
       "      <th>website</th>\n",
       "      <th>fye</th>\n",
       "      <th>indicator</th>\n",
       "      <th>statement</th>\n",
       "    </tr>\n",
       "    <tr>\n",
       "      <th>None</th>\n",
       "      <th></th>\n",
       "      <th></th>\n",
       "      <th></th>\n",
       "      <th></th>\n",
       "      <th></th>\n",
       "      <th></th>\n",
       "      <th></th>\n",
       "      <th></th>\n",
       "      <th></th>\n",
       "      <th></th>\n",
       "      <th></th>\n",
       "      <th></th>\n",
       "      <th></th>\n",
       "      <th></th>\n",
       "      <th></th>\n",
       "      <th></th>\n",
       "      <th></th>\n",
       "      <th></th>\n",
       "      <th></th>\n",
       "      <th></th>\n",
       "      <th></th>\n",
       "    </tr>\n",
       "  </thead>\n",
       "  <tbody>\n",
       "  </tbody>\n",
       "</table>\n",
       "<p>0 rows × 32 columns</p>\n",
       "</div>"
      ],
      "text/plain": [
       "Empty DataFrame\n",
       "Columns: [compnumber, reportid, mapcode, amount, reportdate, reporttype, auditorstatus, currency, consolidated, longname, shortname, status, countrycode, region, cik, mic, ticker, exchange, address1, address2, address3, address4, city, statecode, country, zipcode, phonenumber, faxnumber, website, fye, indicator, statement]\n",
       "Index: []\n",
       "\n",
       "[0 rows x 32 columns]"
      ]
     },
     "execution_count": 17,
     "metadata": {},
     "output_type": "execute_result"
    }
   ],
   "source": [
    "mydata"
   ]
  },
  {
   "cell_type": "code",
   "execution_count": 4,
   "metadata": {},
   "outputs": [
    {
     "name": "stdout",
     "output_type": "stream",
     "text": [
      "(30769, 32)\n"
     ]
    }
   ],
   "source": [
    "list(data.columns)\n",
    "\n",
    "stocks = data['shortname'].unique()\n",
    "print(data.shape)"
   ]
  },
  {
   "cell_type": "code",
   "execution_count": null,
   "metadata": {},
   "outputs": [],
   "source": [
    "risk_reward = risk / reward \n",
    "### NET PROFIT by the price of your maximum risk SO TOTAL AMOUNT MADE / PROFIT  DIVIDED BY THE AMOUNT  YOU WENT IN FOR "
   ]
  },
  {
   "cell_type": "code",
   "execution_count": 6,
   "metadata": {},
   "outputs": [
    {
     "data": {
      "text/plain": [
       "array(['Deutsche Bank AG', 'BCE Inc',\n",
       "       'Teva Pharmaceutical Industries Ltd', 'Nokia Corp',\n",
       "       'Tata Motors Ltd', 'Banco Bradesco SA',\n",
       "       'PT Telekomunikasi Indonesia (Persero) TBK', 'Immutep Ltd',\n",
       "       'Ultrapetrol (Bahamas) Ltd', 'Herbalife Nutrition Ltd',\n",
       "       'Anheuser-Busch InBev SA/NV', 'Sanofi', 'Capri Holdings Ltd',\n",
       "       'LATAM Airlines Group SA', 'Nielsen Holdings PLC', 'Canon Inc',\n",
       "       'LG Display Co Ltd', 'Telefonica SA', 'Telecom Italia SpA',\n",
       "       'China Unicom (Hong Kong) Ltd', 'Novo-Nordisk AS',\n",
       "       'Wells Fargo & Co (New)', 'Apple Inc', 'Accenture plc',\n",
       "       'Chubb Ltd', 'Royal Caribbean Group', 'Carnival Corp',\n",
       "       'RenaissanceRe Holdings Ltd.', 'American International Group Inc',\n",
       "       'NatWest Group PLC'], dtype=object)"
      ]
     },
     "execution_count": 6,
     "metadata": {},
     "output_type": "execute_result"
    }
   ],
   "source": [
    "data['longname'].unique()"
   ]
  }
 ],
 "metadata": {
  "interpreter": {
   "hash": "f1600b08eb054f89f1d3fd7d41e80cbb6cb92b16b32be617c82557d838b2f27c"
  },
  "kernelspec": {
   "display_name": "Python 3.8.12 ('Data Science')",
   "language": "python",
   "name": "python3"
  },
  "language_info": {
   "codemirror_mode": {
    "name": "ipython",
    "version": 3
   },
   "file_extension": ".py",
   "mimetype": "text/x-python",
   "name": "python",
   "nbconvert_exporter": "python",
   "pygments_lexer": "ipython3",
   "version": "3.8.12"
  },
  "orig_nbformat": 4
 },
 "nbformat": 4,
 "nbformat_minor": 2
}
