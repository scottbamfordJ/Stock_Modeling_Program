{
 "cells": [
  {
   "cell_type": "markdown",
   "metadata": {},
   "source": [
    "### The Goal of this model is to get the 100000 Stock outcomes and predict the outcome specifically in terms of seeing / predicting the outcomes using 20% of the total data to make a model prediciting these outcomes "
   ]
  },
  {
   "cell_type": "code",
   "execution_count": 2,
   "metadata": {},
   "outputs": [],
   "source": [
    "import pandas as pd\n",
    "import requests\n",
    "import nasdaqdatalink\n",
    "import os\n",
    "import yfinance as yf\n",
    "import quandl\n",
    "\n"
   ]
  },
  {
   "cell_type": "code",
   "execution_count": 7,
   "metadata": {},
   "outputs": [],
   "source": []
  },
  {
   "cell_type": "code",
   "execution_count": 4,
   "metadata": {},
   "outputs": [
    {
     "name": "stdout",
     "output_type": "stream",
     "text": [
      "               Open     High      Low     Last    Close  Total Trade Quantity  \\\n",
      "Date                                                                            \n",
      "2009-09-30  1096.00  1156.70  1090.00  1135.00  1141.20            19748012.0   \n",
      "2009-10-01  1102.00  1173.70  1102.00  1167.00  1166.35             3074254.0   \n",
      "2009-10-05  1152.00  1165.90  1136.60  1143.00  1140.55              919832.0   \n",
      "2009-10-06  1149.80  1157.20  1132.10  1143.30  1144.90              627957.0   \n",
      "2009-10-07  1153.80  1160.70  1140.00  1141.45  1141.60              698216.0   \n",
      "...             ...      ...      ...      ...      ...                   ...   \n",
      "2018-12-31   178.10   179.00   174.35   175.00   174.80              761462.0   \n",
      "2019-01-01   175.00   176.40   174.15   175.15   175.75              381570.0   \n",
      "2019-01-02   175.80   176.20   171.00   172.35   172.40              722532.0   \n",
      "2019-01-03   172.80   175.70   171.50   172.00   172.00              698190.0   \n",
      "2019-01-04   172.05   174.95   172.05   174.55   174.55              431122.0   \n",
      "\n",
      "            Turnover (Lacs)  \n",
      "Date                         \n",
      "2009-09-30        223877.07  \n",
      "2009-10-01         35463.78  \n",
      "2009-10-05         10581.13  \n",
      "2009-10-06          7185.90  \n",
      "2009-10-07          8032.98  \n",
      "...                     ...  \n",
      "2018-12-31          1343.75  \n",
      "2019-01-01           669.16  \n",
      "2019-01-02          1251.85  \n",
      "2019-01-03          1212.34  \n",
      "2019-01-04           749.99  \n",
      "\n",
      "[2299 rows x 7 columns]\n"
     ]
    }
   ],
   "source": [
    "data = nasdaqdatalink.get('NSE/OIL')\n",
    "print(data)"
   ]
  },
  {
   "cell_type": "code",
   "execution_count": 17,
   "metadata": {},
   "outputs": [
    {
     "name": "stdout",
     "output_type": "stream",
     "text": [
      "- ASBI: No data found for this date range, symbol may be delisted\n",
      "Empty DataFrame\n",
      "Columns: [Open, High, Low, Close, Adj Close, Volume]\n",
      "Index: []\n"
     ]
    }
   ],
   "source": []
  },
  {
   "cell_type": "code",
   "execution_count": 29,
   "metadata": {},
   "outputs": [
    {
     "name": "stdout",
     "output_type": "stream",
     "text": [
      "Note: you may need to restart the kernel to use updated packages.\n"
     ]
    },
    {
     "name": "stderr",
     "output_type": "stream",
     "text": [
      "ERROR: Could not find a version that satisfies the requirement re (from versions: none)\n",
      "ERROR: No matching distribution found for re\n"
     ]
    }
   ],
   "source": [
    "%pip install re"
   ]
  },
  {
   "cell_type": "code",
   "execution_count": 32,
   "metadata": {},
   "outputs": [
    {
     "ename": "SyntaxError",
     "evalue": "invalid syntax (1042042411.py, line 6)",
     "output_type": "error",
     "traceback": [
      "\u001b[1;36m  Input \u001b[1;32mIn [32]\u001b[1;36m\u001b[0m\n\u001b[1;33m    print [re.sub('^[a-zA-Z0-9]+', '', _) for _ in tickers]\u001b[0m\n\u001b[1;37m                                          ^\u001b[0m\n\u001b[1;31mSyntaxError\u001b[0m\u001b[1;31m:\u001b[0m invalid syntax\n"
     ]
    }
   ],
   "source": [
    "import re\n",
    "data = pd.read_csv(\"nasdaq_screener_1661698304861.csv\")\n",
    "data.head(5)\n",
    "\n",
    "tickers = data['Symbol']\n",
    "print [re.sub('^[a-zA-Z0-9]+', '', _) for _ in tickers]"
   ]
  },
  {
   "cell_type": "code",
   "execution_count": 27,
   "metadata": {},
   "outputs": [
    {
     "name": "stdout",
     "output_type": "stream",
     "text": [
      "- AAIC^B: No data found, symbol may be delisted\n",
      "- AAIC^C: No data found, symbol may be delisted\n",
      "- AAM^A: No data found, symbol may be delisted\n",
      "- AAM^B: No data found, symbol may be delisted\n",
      "- ABR^D: No data found, symbol may be delisted\n",
      "- ABR^E: No data found, symbol may be delisted\n",
      "- ABR^F: No data found, symbol may be delisted\n",
      "- ACP^A: No data found, symbol may be delisted\n",
      "- ACR^C: No data found, symbol may be delisted\n",
      "- ACR^D: No data found, symbol may be delisted\n",
      "- ADC^A: No data found, symbol may be delisted\n",
      "- AEL^A: No data found, symbol may be delisted\n",
      "- AEL^B: No data found, symbol may be delisted\n",
      "- AGM^C: No data found, symbol may be delisted\n",
      "- AGM^D: No data found, symbol may be delisted\n",
      "- AGM^E: No data found, symbol may be delisted\n",
      "- AGM^F: No data found, symbol may be delisted\n",
      "- AGM^G: No data found, symbol may be delisted\n",
      "- AHH^A: No data found, symbol may be delisted\n",
      "- AHL^C: No data found, symbol may be delisted\n",
      "- AHL^D: No data found, symbol may be delisted\n",
      "- AHL^E: No data found, symbol may be delisted\n",
      "- AHT^D: No data found, symbol may be delisted\n",
      "- AHT^F: No data found, symbol may be delisted\n",
      "- AHT^G: No data found, symbol may be delisted\n",
      "- AHT^H: No data found, symbol may be delisted\n",
      "- AHT^I: No data found, symbol may be delisted\n",
      "- AIG^A: No data found, symbol may be delisted\n",
      "- AKO/A: No data found for this date range, symbol may be delisted\n",
      "- AKO/B: No data found for this date range, symbol may be delisted\n",
      "- AL^A: No data found, symbol may be delisted\n"
     ]
    },
    {
     "ename": "KeyboardInterrupt",
     "evalue": "",
     "output_type": "error",
     "traceback": [
      "\u001b[1;31m---------------------------------------------------------------------------\u001b[0m",
      "\u001b[1;31mKeyboardInterrupt\u001b[0m                         Traceback (most recent call last)",
      "\u001b[1;32mc:\\Users\\scott\\Documents\\Stock Modeling Project\\Stock_Modeling_Program\\Modeling.ipynb Cell 6'\u001b[0m in \u001b[0;36m<cell line: 7>\u001b[1;34m()\u001b[0m\n\u001b[0;32m      <a href='vscode-notebook-cell:/c%3A/Users/scott/Documents/Stock%20Modeling%20Project/Stock_Modeling_Program/Modeling.ipynb#ch0000004?line=7'>8</a>\u001b[0m tickerData \u001b[39m=\u001b[39m yf\u001b[39m.\u001b[39mTicker(values)\n\u001b[0;32m      <a href='vscode-notebook-cell:/c%3A/Users/scott/Documents/Stock%20Modeling%20Project/Stock_Modeling_Program/Modeling.ipynb#ch0000004?line=8'>9</a>\u001b[0m \u001b[39m### 1d = Daily , 1m = Montly, 1y = yearly \u001b[39;00m\n\u001b[1;32m---> <a href='vscode-notebook-cell:/c%3A/Users/scott/Documents/Stock%20Modeling%20Project/Stock_Modeling_Program/Modeling.ipynb#ch0000004?line=9'>10</a>\u001b[0m tickerDf \u001b[39m=\u001b[39m tickerData\u001b[39m.\u001b[39;49mhistory(period\u001b[39m=\u001b[39;49m\u001b[39m'\u001b[39;49m\u001b[39m1d\u001b[39;49m\u001b[39m'\u001b[39;49m, start\u001b[39m=\u001b[39;49m\u001b[39m'\u001b[39;49m\u001b[39m2010-1-1\u001b[39;49m\u001b[39m'\u001b[39;49m, end\u001b[39m=\u001b[39;49m\u001b[39m'\u001b[39;49m\u001b[39m2022-8-28\u001b[39;49m\u001b[39m'\u001b[39;49m)\n\u001b[0;32m     <a href='vscode-notebook-cell:/c%3A/Users/scott/Documents/Stock%20Modeling%20Project/Stock_Modeling_Program/Modeling.ipynb#ch0000004?line=10'>11</a>\u001b[0m tickerDf[\u001b[39m'\u001b[39m\u001b[39mTicker\u001b[39m\u001b[39m'\u001b[39m] \u001b[39m=\u001b[39m values\n\u001b[0;32m     <a href='vscode-notebook-cell:/c%3A/Users/scott/Documents/Stock%20Modeling%20Project/Stock_Modeling_Program/Modeling.ipynb#ch0000004?line=11'>12</a>\u001b[0m list_of_tickers\u001b[39m.\u001b[39mappend(tickerDf)\n",
      "File \u001b[1;32mc:\\Users\\scott\\anaconda3\\envs\\Stock_Modeling_Project\\lib\\site-packages\\yfinance\\base.py:193\u001b[0m, in \u001b[0;36mTickerBase.history\u001b[1;34m(self, period, interval, start, end, prepost, actions, auto_adjust, back_adjust, proxy, rounding, tz, timeout, **kwargs)\u001b[0m\n\u001b[0;32m    <a href='file:///c%3A/Users/scott/anaconda3/envs/Stock_Modeling_Project/lib/site-packages/yfinance/base.py?line=189'>190</a>\u001b[0m data \u001b[39m=\u001b[39m \u001b[39mNone\u001b[39;00m\n\u001b[0;32m    <a href='file:///c%3A/Users/scott/anaconda3/envs/Stock_Modeling_Project/lib/site-packages/yfinance/base.py?line=191'>192</a>\u001b[0m \u001b[39mtry\u001b[39;00m:\n\u001b[1;32m--> <a href='file:///c%3A/Users/scott/anaconda3/envs/Stock_Modeling_Project/lib/site-packages/yfinance/base.py?line=192'>193</a>\u001b[0m     data \u001b[39m=\u001b[39m session\u001b[39m.\u001b[39;49mget(\n\u001b[0;32m    <a href='file:///c%3A/Users/scott/anaconda3/envs/Stock_Modeling_Project/lib/site-packages/yfinance/base.py?line=193'>194</a>\u001b[0m         url\u001b[39m=\u001b[39;49murl,\n\u001b[0;32m    <a href='file:///c%3A/Users/scott/anaconda3/envs/Stock_Modeling_Project/lib/site-packages/yfinance/base.py?line=194'>195</a>\u001b[0m         params\u001b[39m=\u001b[39;49mparams,\n\u001b[0;32m    <a href='file:///c%3A/Users/scott/anaconda3/envs/Stock_Modeling_Project/lib/site-packages/yfinance/base.py?line=195'>196</a>\u001b[0m         proxies\u001b[39m=\u001b[39;49mproxy,\n\u001b[0;32m    <a href='file:///c%3A/Users/scott/anaconda3/envs/Stock_Modeling_Project/lib/site-packages/yfinance/base.py?line=196'>197</a>\u001b[0m         headers\u001b[39m=\u001b[39;49mutils\u001b[39m.\u001b[39;49muser_agent_headers,\n\u001b[0;32m    <a href='file:///c%3A/Users/scott/anaconda3/envs/Stock_Modeling_Project/lib/site-packages/yfinance/base.py?line=197'>198</a>\u001b[0m         timeout\u001b[39m=\u001b[39;49mtimeout\n\u001b[0;32m    <a href='file:///c%3A/Users/scott/anaconda3/envs/Stock_Modeling_Project/lib/site-packages/yfinance/base.py?line=198'>199</a>\u001b[0m     )\n\u001b[0;32m    <a href='file:///c%3A/Users/scott/anaconda3/envs/Stock_Modeling_Project/lib/site-packages/yfinance/base.py?line=199'>200</a>\u001b[0m     \u001b[39mif\u001b[39;00m \u001b[39m\"\u001b[39m\u001b[39mWill be right back\u001b[39m\u001b[39m\"\u001b[39m \u001b[39min\u001b[39;00m data\u001b[39m.\u001b[39mtext \u001b[39mor\u001b[39;00m data \u001b[39mis\u001b[39;00m \u001b[39mNone\u001b[39;00m:\n\u001b[0;32m    <a href='file:///c%3A/Users/scott/anaconda3/envs/Stock_Modeling_Project/lib/site-packages/yfinance/base.py?line=200'>201</a>\u001b[0m         \u001b[39mraise\u001b[39;00m \u001b[39mRuntimeError\u001b[39;00m(\u001b[39m\"\u001b[39m\u001b[39m*** YAHOO! FINANCE IS CURRENTLY DOWN! ***\u001b[39m\u001b[39m\\n\u001b[39;00m\u001b[39m\"\u001b[39m\n\u001b[0;32m    <a href='file:///c%3A/Users/scott/anaconda3/envs/Stock_Modeling_Project/lib/site-packages/yfinance/base.py?line=201'>202</a>\u001b[0m                            \u001b[39m\"\u001b[39m\u001b[39mOur engineers are working quickly to resolve \u001b[39m\u001b[39m\"\u001b[39m\n\u001b[0;32m    <a href='file:///c%3A/Users/scott/anaconda3/envs/Stock_Modeling_Project/lib/site-packages/yfinance/base.py?line=202'>203</a>\u001b[0m                            \u001b[39m\"\u001b[39m\u001b[39mthe issue. Thank you for your patience.\u001b[39m\u001b[39m\"\u001b[39m)\n",
      "File \u001b[1;32mc:\\Users\\scott\\anaconda3\\envs\\Stock_Modeling_Project\\lib\\site-packages\\requests\\api.py:73\u001b[0m, in \u001b[0;36mget\u001b[1;34m(url, params, **kwargs)\u001b[0m\n\u001b[0;32m     <a href='file:///c%3A/Users/scott/anaconda3/envs/Stock_Modeling_Project/lib/site-packages/requests/api.py?line=61'>62</a>\u001b[0m \u001b[39mdef\u001b[39;00m \u001b[39mget\u001b[39m(url, params\u001b[39m=\u001b[39m\u001b[39mNone\u001b[39;00m, \u001b[39m*\u001b[39m\u001b[39m*\u001b[39mkwargs):\n\u001b[0;32m     <a href='file:///c%3A/Users/scott/anaconda3/envs/Stock_Modeling_Project/lib/site-packages/requests/api.py?line=62'>63</a>\u001b[0m     \u001b[39mr\u001b[39m\u001b[39m\"\"\"Sends a GET request.\u001b[39;00m\n\u001b[0;32m     <a href='file:///c%3A/Users/scott/anaconda3/envs/Stock_Modeling_Project/lib/site-packages/requests/api.py?line=63'>64</a>\u001b[0m \n\u001b[0;32m     <a href='file:///c%3A/Users/scott/anaconda3/envs/Stock_Modeling_Project/lib/site-packages/requests/api.py?line=64'>65</a>\u001b[0m \u001b[39m    :param url: URL for the new :class:`Request` object.\u001b[39;00m\n\u001b[1;32m   (...)\u001b[0m\n\u001b[0;32m     <a href='file:///c%3A/Users/scott/anaconda3/envs/Stock_Modeling_Project/lib/site-packages/requests/api.py?line=69'>70</a>\u001b[0m \u001b[39m    :rtype: requests.Response\u001b[39;00m\n\u001b[0;32m     <a href='file:///c%3A/Users/scott/anaconda3/envs/Stock_Modeling_Project/lib/site-packages/requests/api.py?line=70'>71</a>\u001b[0m \u001b[39m    \"\"\"\u001b[39;00m\n\u001b[1;32m---> <a href='file:///c%3A/Users/scott/anaconda3/envs/Stock_Modeling_Project/lib/site-packages/requests/api.py?line=72'>73</a>\u001b[0m     \u001b[39mreturn\u001b[39;00m request(\u001b[39m\"\u001b[39m\u001b[39mget\u001b[39m\u001b[39m\"\u001b[39m, url, params\u001b[39m=\u001b[39mparams, \u001b[39m*\u001b[39m\u001b[39m*\u001b[39mkwargs)\n",
      "File \u001b[1;32mc:\\Users\\scott\\anaconda3\\envs\\Stock_Modeling_Project\\lib\\site-packages\\requests\\api.py:59\u001b[0m, in \u001b[0;36mrequest\u001b[1;34m(method, url, **kwargs)\u001b[0m\n\u001b[0;32m     <a href='file:///c%3A/Users/scott/anaconda3/envs/Stock_Modeling_Project/lib/site-packages/requests/api.py?line=54'>55</a>\u001b[0m \u001b[39m# By using the 'with' statement we are sure the session is closed, thus we\u001b[39;00m\n\u001b[0;32m     <a href='file:///c%3A/Users/scott/anaconda3/envs/Stock_Modeling_Project/lib/site-packages/requests/api.py?line=55'>56</a>\u001b[0m \u001b[39m# avoid leaving sockets open which can trigger a ResourceWarning in some\u001b[39;00m\n\u001b[0;32m     <a href='file:///c%3A/Users/scott/anaconda3/envs/Stock_Modeling_Project/lib/site-packages/requests/api.py?line=56'>57</a>\u001b[0m \u001b[39m# cases, and look like a memory leak in others.\u001b[39;00m\n\u001b[0;32m     <a href='file:///c%3A/Users/scott/anaconda3/envs/Stock_Modeling_Project/lib/site-packages/requests/api.py?line=57'>58</a>\u001b[0m \u001b[39mwith\u001b[39;00m sessions\u001b[39m.\u001b[39mSession() \u001b[39mas\u001b[39;00m session:\n\u001b[1;32m---> <a href='file:///c%3A/Users/scott/anaconda3/envs/Stock_Modeling_Project/lib/site-packages/requests/api.py?line=58'>59</a>\u001b[0m     \u001b[39mreturn\u001b[39;00m session\u001b[39m.\u001b[39mrequest(method\u001b[39m=\u001b[39mmethod, url\u001b[39m=\u001b[39murl, \u001b[39m*\u001b[39m\u001b[39m*\u001b[39mkwargs)\n",
      "File \u001b[1;32mc:\\Users\\scott\\anaconda3\\envs\\Stock_Modeling_Project\\lib\\site-packages\\requests\\sessions.py:587\u001b[0m, in \u001b[0;36mSession.request\u001b[1;34m(self, method, url, params, data, headers, cookies, files, auth, timeout, allow_redirects, proxies, hooks, stream, verify, cert, json)\u001b[0m\n\u001b[0;32m    <a href='file:///c%3A/Users/scott/anaconda3/envs/Stock_Modeling_Project/lib/site-packages/requests/sessions.py?line=581'>582</a>\u001b[0m send_kwargs \u001b[39m=\u001b[39m {\n\u001b[0;32m    <a href='file:///c%3A/Users/scott/anaconda3/envs/Stock_Modeling_Project/lib/site-packages/requests/sessions.py?line=582'>583</a>\u001b[0m     \u001b[39m\"\u001b[39m\u001b[39mtimeout\u001b[39m\u001b[39m\"\u001b[39m: timeout,\n\u001b[0;32m    <a href='file:///c%3A/Users/scott/anaconda3/envs/Stock_Modeling_Project/lib/site-packages/requests/sessions.py?line=583'>584</a>\u001b[0m     \u001b[39m\"\u001b[39m\u001b[39mallow_redirects\u001b[39m\u001b[39m\"\u001b[39m: allow_redirects,\n\u001b[0;32m    <a href='file:///c%3A/Users/scott/anaconda3/envs/Stock_Modeling_Project/lib/site-packages/requests/sessions.py?line=584'>585</a>\u001b[0m }\n\u001b[0;32m    <a href='file:///c%3A/Users/scott/anaconda3/envs/Stock_Modeling_Project/lib/site-packages/requests/sessions.py?line=585'>586</a>\u001b[0m send_kwargs\u001b[39m.\u001b[39mupdate(settings)\n\u001b[1;32m--> <a href='file:///c%3A/Users/scott/anaconda3/envs/Stock_Modeling_Project/lib/site-packages/requests/sessions.py?line=586'>587</a>\u001b[0m resp \u001b[39m=\u001b[39m \u001b[39mself\u001b[39m\u001b[39m.\u001b[39msend(prep, \u001b[39m*\u001b[39m\u001b[39m*\u001b[39msend_kwargs)\n\u001b[0;32m    <a href='file:///c%3A/Users/scott/anaconda3/envs/Stock_Modeling_Project/lib/site-packages/requests/sessions.py?line=588'>589</a>\u001b[0m \u001b[39mreturn\u001b[39;00m resp\n",
      "File \u001b[1;32mc:\\Users\\scott\\anaconda3\\envs\\Stock_Modeling_Project\\lib\\site-packages\\requests\\sessions.py:701\u001b[0m, in \u001b[0;36mSession.send\u001b[1;34m(self, request, **kwargs)\u001b[0m\n\u001b[0;32m    <a href='file:///c%3A/Users/scott/anaconda3/envs/Stock_Modeling_Project/lib/site-packages/requests/sessions.py?line=697'>698</a>\u001b[0m start \u001b[39m=\u001b[39m preferred_clock()\n\u001b[0;32m    <a href='file:///c%3A/Users/scott/anaconda3/envs/Stock_Modeling_Project/lib/site-packages/requests/sessions.py?line=699'>700</a>\u001b[0m \u001b[39m# Send the request\u001b[39;00m\n\u001b[1;32m--> <a href='file:///c%3A/Users/scott/anaconda3/envs/Stock_Modeling_Project/lib/site-packages/requests/sessions.py?line=700'>701</a>\u001b[0m r \u001b[39m=\u001b[39m adapter\u001b[39m.\u001b[39msend(request, \u001b[39m*\u001b[39m\u001b[39m*\u001b[39mkwargs)\n\u001b[0;32m    <a href='file:///c%3A/Users/scott/anaconda3/envs/Stock_Modeling_Project/lib/site-packages/requests/sessions.py?line=702'>703</a>\u001b[0m \u001b[39m# Total elapsed time of the request (approximately)\u001b[39;00m\n\u001b[0;32m    <a href='file:///c%3A/Users/scott/anaconda3/envs/Stock_Modeling_Project/lib/site-packages/requests/sessions.py?line=703'>704</a>\u001b[0m elapsed \u001b[39m=\u001b[39m preferred_clock() \u001b[39m-\u001b[39m start\n",
      "File \u001b[1;32mc:\\Users\\scott\\anaconda3\\envs\\Stock_Modeling_Project\\lib\\site-packages\\requests\\adapters.py:489\u001b[0m, in \u001b[0;36mHTTPAdapter.send\u001b[1;34m(self, request, stream, timeout, verify, cert, proxies)\u001b[0m\n\u001b[0;32m    <a href='file:///c%3A/Users/scott/anaconda3/envs/Stock_Modeling_Project/lib/site-packages/requests/adapters.py?line=486'>487</a>\u001b[0m \u001b[39mtry\u001b[39;00m:\n\u001b[0;32m    <a href='file:///c%3A/Users/scott/anaconda3/envs/Stock_Modeling_Project/lib/site-packages/requests/adapters.py?line=487'>488</a>\u001b[0m     \u001b[39mif\u001b[39;00m \u001b[39mnot\u001b[39;00m chunked:\n\u001b[1;32m--> <a href='file:///c%3A/Users/scott/anaconda3/envs/Stock_Modeling_Project/lib/site-packages/requests/adapters.py?line=488'>489</a>\u001b[0m         resp \u001b[39m=\u001b[39m conn\u001b[39m.\u001b[39;49murlopen(\n\u001b[0;32m    <a href='file:///c%3A/Users/scott/anaconda3/envs/Stock_Modeling_Project/lib/site-packages/requests/adapters.py?line=489'>490</a>\u001b[0m             method\u001b[39m=\u001b[39;49mrequest\u001b[39m.\u001b[39;49mmethod,\n\u001b[0;32m    <a href='file:///c%3A/Users/scott/anaconda3/envs/Stock_Modeling_Project/lib/site-packages/requests/adapters.py?line=490'>491</a>\u001b[0m             url\u001b[39m=\u001b[39;49murl,\n\u001b[0;32m    <a href='file:///c%3A/Users/scott/anaconda3/envs/Stock_Modeling_Project/lib/site-packages/requests/adapters.py?line=491'>492</a>\u001b[0m             body\u001b[39m=\u001b[39;49mrequest\u001b[39m.\u001b[39;49mbody,\n\u001b[0;32m    <a href='file:///c%3A/Users/scott/anaconda3/envs/Stock_Modeling_Project/lib/site-packages/requests/adapters.py?line=492'>493</a>\u001b[0m             headers\u001b[39m=\u001b[39;49mrequest\u001b[39m.\u001b[39;49mheaders,\n\u001b[0;32m    <a href='file:///c%3A/Users/scott/anaconda3/envs/Stock_Modeling_Project/lib/site-packages/requests/adapters.py?line=493'>494</a>\u001b[0m             redirect\u001b[39m=\u001b[39;49m\u001b[39mFalse\u001b[39;49;00m,\n\u001b[0;32m    <a href='file:///c%3A/Users/scott/anaconda3/envs/Stock_Modeling_Project/lib/site-packages/requests/adapters.py?line=494'>495</a>\u001b[0m             assert_same_host\u001b[39m=\u001b[39;49m\u001b[39mFalse\u001b[39;49;00m,\n\u001b[0;32m    <a href='file:///c%3A/Users/scott/anaconda3/envs/Stock_Modeling_Project/lib/site-packages/requests/adapters.py?line=495'>496</a>\u001b[0m             preload_content\u001b[39m=\u001b[39;49m\u001b[39mFalse\u001b[39;49;00m,\n\u001b[0;32m    <a href='file:///c%3A/Users/scott/anaconda3/envs/Stock_Modeling_Project/lib/site-packages/requests/adapters.py?line=496'>497</a>\u001b[0m             decode_content\u001b[39m=\u001b[39;49m\u001b[39mFalse\u001b[39;49;00m,\n\u001b[0;32m    <a href='file:///c%3A/Users/scott/anaconda3/envs/Stock_Modeling_Project/lib/site-packages/requests/adapters.py?line=497'>498</a>\u001b[0m             retries\u001b[39m=\u001b[39;49m\u001b[39mself\u001b[39;49m\u001b[39m.\u001b[39;49mmax_retries,\n\u001b[0;32m    <a href='file:///c%3A/Users/scott/anaconda3/envs/Stock_Modeling_Project/lib/site-packages/requests/adapters.py?line=498'>499</a>\u001b[0m             timeout\u001b[39m=\u001b[39;49mtimeout,\n\u001b[0;32m    <a href='file:///c%3A/Users/scott/anaconda3/envs/Stock_Modeling_Project/lib/site-packages/requests/adapters.py?line=499'>500</a>\u001b[0m         )\n\u001b[0;32m    <a href='file:///c%3A/Users/scott/anaconda3/envs/Stock_Modeling_Project/lib/site-packages/requests/adapters.py?line=501'>502</a>\u001b[0m     \u001b[39m# Send the request.\u001b[39;00m\n\u001b[0;32m    <a href='file:///c%3A/Users/scott/anaconda3/envs/Stock_Modeling_Project/lib/site-packages/requests/adapters.py?line=502'>503</a>\u001b[0m     \u001b[39melse\u001b[39;00m:\n\u001b[0;32m    <a href='file:///c%3A/Users/scott/anaconda3/envs/Stock_Modeling_Project/lib/site-packages/requests/adapters.py?line=503'>504</a>\u001b[0m         \u001b[39mif\u001b[39;00m \u001b[39mhasattr\u001b[39m(conn, \u001b[39m\"\u001b[39m\u001b[39mproxy_pool\u001b[39m\u001b[39m\"\u001b[39m):\n",
      "File \u001b[1;32mc:\\Users\\scott\\anaconda3\\envs\\Stock_Modeling_Project\\lib\\site-packages\\urllib3\\connectionpool.py:703\u001b[0m, in \u001b[0;36mHTTPConnectionPool.urlopen\u001b[1;34m(self, method, url, body, headers, retries, redirect, assert_same_host, timeout, pool_timeout, release_conn, chunked, body_pos, **response_kw)\u001b[0m\n\u001b[0;32m    <a href='file:///c%3A/Users/scott/anaconda3/envs/Stock_Modeling_Project/lib/site-packages/urllib3/connectionpool.py?line=699'>700</a>\u001b[0m     \u001b[39mself\u001b[39m\u001b[39m.\u001b[39m_prepare_proxy(conn)\n\u001b[0;32m    <a href='file:///c%3A/Users/scott/anaconda3/envs/Stock_Modeling_Project/lib/site-packages/urllib3/connectionpool.py?line=701'>702</a>\u001b[0m \u001b[39m# Make the request on the httplib connection object.\u001b[39;00m\n\u001b[1;32m--> <a href='file:///c%3A/Users/scott/anaconda3/envs/Stock_Modeling_Project/lib/site-packages/urllib3/connectionpool.py?line=702'>703</a>\u001b[0m httplib_response \u001b[39m=\u001b[39m \u001b[39mself\u001b[39;49m\u001b[39m.\u001b[39;49m_make_request(\n\u001b[0;32m    <a href='file:///c%3A/Users/scott/anaconda3/envs/Stock_Modeling_Project/lib/site-packages/urllib3/connectionpool.py?line=703'>704</a>\u001b[0m     conn,\n\u001b[0;32m    <a href='file:///c%3A/Users/scott/anaconda3/envs/Stock_Modeling_Project/lib/site-packages/urllib3/connectionpool.py?line=704'>705</a>\u001b[0m     method,\n\u001b[0;32m    <a href='file:///c%3A/Users/scott/anaconda3/envs/Stock_Modeling_Project/lib/site-packages/urllib3/connectionpool.py?line=705'>706</a>\u001b[0m     url,\n\u001b[0;32m    <a href='file:///c%3A/Users/scott/anaconda3/envs/Stock_Modeling_Project/lib/site-packages/urllib3/connectionpool.py?line=706'>707</a>\u001b[0m     timeout\u001b[39m=\u001b[39;49mtimeout_obj,\n\u001b[0;32m    <a href='file:///c%3A/Users/scott/anaconda3/envs/Stock_Modeling_Project/lib/site-packages/urllib3/connectionpool.py?line=707'>708</a>\u001b[0m     body\u001b[39m=\u001b[39;49mbody,\n\u001b[0;32m    <a href='file:///c%3A/Users/scott/anaconda3/envs/Stock_Modeling_Project/lib/site-packages/urllib3/connectionpool.py?line=708'>709</a>\u001b[0m     headers\u001b[39m=\u001b[39;49mheaders,\n\u001b[0;32m    <a href='file:///c%3A/Users/scott/anaconda3/envs/Stock_Modeling_Project/lib/site-packages/urllib3/connectionpool.py?line=709'>710</a>\u001b[0m     chunked\u001b[39m=\u001b[39;49mchunked,\n\u001b[0;32m    <a href='file:///c%3A/Users/scott/anaconda3/envs/Stock_Modeling_Project/lib/site-packages/urllib3/connectionpool.py?line=710'>711</a>\u001b[0m )\n\u001b[0;32m    <a href='file:///c%3A/Users/scott/anaconda3/envs/Stock_Modeling_Project/lib/site-packages/urllib3/connectionpool.py?line=712'>713</a>\u001b[0m \u001b[39m# If we're going to release the connection in ``finally:``, then\u001b[39;00m\n\u001b[0;32m    <a href='file:///c%3A/Users/scott/anaconda3/envs/Stock_Modeling_Project/lib/site-packages/urllib3/connectionpool.py?line=713'>714</a>\u001b[0m \u001b[39m# the response doesn't need to know about the connection. Otherwise\u001b[39;00m\n\u001b[0;32m    <a href='file:///c%3A/Users/scott/anaconda3/envs/Stock_Modeling_Project/lib/site-packages/urllib3/connectionpool.py?line=714'>715</a>\u001b[0m \u001b[39m# it will also try to release it and we'll have a double-release\u001b[39;00m\n\u001b[0;32m    <a href='file:///c%3A/Users/scott/anaconda3/envs/Stock_Modeling_Project/lib/site-packages/urllib3/connectionpool.py?line=715'>716</a>\u001b[0m \u001b[39m# mess.\u001b[39;00m\n\u001b[0;32m    <a href='file:///c%3A/Users/scott/anaconda3/envs/Stock_Modeling_Project/lib/site-packages/urllib3/connectionpool.py?line=716'>717</a>\u001b[0m response_conn \u001b[39m=\u001b[39m conn \u001b[39mif\u001b[39;00m \u001b[39mnot\u001b[39;00m release_conn \u001b[39melse\u001b[39;00m \u001b[39mNone\u001b[39;00m\n",
      "File \u001b[1;32mc:\\Users\\scott\\anaconda3\\envs\\Stock_Modeling_Project\\lib\\site-packages\\urllib3\\connectionpool.py:386\u001b[0m, in \u001b[0;36mHTTPConnectionPool._make_request\u001b[1;34m(self, conn, method, url, timeout, chunked, **httplib_request_kw)\u001b[0m\n\u001b[0;32m    <a href='file:///c%3A/Users/scott/anaconda3/envs/Stock_Modeling_Project/lib/site-packages/urllib3/connectionpool.py?line=383'>384</a>\u001b[0m \u001b[39m# Trigger any extra validation we need to do.\u001b[39;00m\n\u001b[0;32m    <a href='file:///c%3A/Users/scott/anaconda3/envs/Stock_Modeling_Project/lib/site-packages/urllib3/connectionpool.py?line=384'>385</a>\u001b[0m \u001b[39mtry\u001b[39;00m:\n\u001b[1;32m--> <a href='file:///c%3A/Users/scott/anaconda3/envs/Stock_Modeling_Project/lib/site-packages/urllib3/connectionpool.py?line=385'>386</a>\u001b[0m     \u001b[39mself\u001b[39;49m\u001b[39m.\u001b[39;49m_validate_conn(conn)\n\u001b[0;32m    <a href='file:///c%3A/Users/scott/anaconda3/envs/Stock_Modeling_Project/lib/site-packages/urllib3/connectionpool.py?line=386'>387</a>\u001b[0m \u001b[39mexcept\u001b[39;00m (SocketTimeout, BaseSSLError) \u001b[39mas\u001b[39;00m e:\n\u001b[0;32m    <a href='file:///c%3A/Users/scott/anaconda3/envs/Stock_Modeling_Project/lib/site-packages/urllib3/connectionpool.py?line=387'>388</a>\u001b[0m     \u001b[39m# Py2 raises this as a BaseSSLError, Py3 raises it as socket timeout.\u001b[39;00m\n\u001b[0;32m    <a href='file:///c%3A/Users/scott/anaconda3/envs/Stock_Modeling_Project/lib/site-packages/urllib3/connectionpool.py?line=388'>389</a>\u001b[0m     \u001b[39mself\u001b[39m\u001b[39m.\u001b[39m_raise_timeout(err\u001b[39m=\u001b[39me, url\u001b[39m=\u001b[39murl, timeout_value\u001b[39m=\u001b[39mconn\u001b[39m.\u001b[39mtimeout)\n",
      "File \u001b[1;32mc:\\Users\\scott\\anaconda3\\envs\\Stock_Modeling_Project\\lib\\site-packages\\urllib3\\connectionpool.py:1042\u001b[0m, in \u001b[0;36mHTTPSConnectionPool._validate_conn\u001b[1;34m(self, conn)\u001b[0m\n\u001b[0;32m   <a href='file:///c%3A/Users/scott/anaconda3/envs/Stock_Modeling_Project/lib/site-packages/urllib3/connectionpool.py?line=1039'>1040</a>\u001b[0m \u001b[39m# Force connect early to allow us to validate the connection.\u001b[39;00m\n\u001b[0;32m   <a href='file:///c%3A/Users/scott/anaconda3/envs/Stock_Modeling_Project/lib/site-packages/urllib3/connectionpool.py?line=1040'>1041</a>\u001b[0m \u001b[39mif\u001b[39;00m \u001b[39mnot\u001b[39;00m \u001b[39mgetattr\u001b[39m(conn, \u001b[39m\"\u001b[39m\u001b[39msock\u001b[39m\u001b[39m\"\u001b[39m, \u001b[39mNone\u001b[39;00m):  \u001b[39m# AppEngine might not have  `.sock`\u001b[39;00m\n\u001b[1;32m-> <a href='file:///c%3A/Users/scott/anaconda3/envs/Stock_Modeling_Project/lib/site-packages/urllib3/connectionpool.py?line=1041'>1042</a>\u001b[0m     conn\u001b[39m.\u001b[39;49mconnect()\n\u001b[0;32m   <a href='file:///c%3A/Users/scott/anaconda3/envs/Stock_Modeling_Project/lib/site-packages/urllib3/connectionpool.py?line=1043'>1044</a>\u001b[0m \u001b[39mif\u001b[39;00m \u001b[39mnot\u001b[39;00m conn\u001b[39m.\u001b[39mis_verified:\n\u001b[0;32m   <a href='file:///c%3A/Users/scott/anaconda3/envs/Stock_Modeling_Project/lib/site-packages/urllib3/connectionpool.py?line=1044'>1045</a>\u001b[0m     warnings\u001b[39m.\u001b[39mwarn(\n\u001b[0;32m   <a href='file:///c%3A/Users/scott/anaconda3/envs/Stock_Modeling_Project/lib/site-packages/urllib3/connectionpool.py?line=1045'>1046</a>\u001b[0m         (\n\u001b[0;32m   <a href='file:///c%3A/Users/scott/anaconda3/envs/Stock_Modeling_Project/lib/site-packages/urllib3/connectionpool.py?line=1046'>1047</a>\u001b[0m             \u001b[39m\"\u001b[39m\u001b[39mUnverified HTTPS request is being made to host \u001b[39m\u001b[39m'\u001b[39m\u001b[39m%s\u001b[39;00m\u001b[39m'\u001b[39m\u001b[39m. \u001b[39m\u001b[39m\"\u001b[39m\n\u001b[1;32m   (...)\u001b[0m\n\u001b[0;32m   <a href='file:///c%3A/Users/scott/anaconda3/envs/Stock_Modeling_Project/lib/site-packages/urllib3/connectionpool.py?line=1051'>1052</a>\u001b[0m         InsecureRequestWarning,\n\u001b[0;32m   <a href='file:///c%3A/Users/scott/anaconda3/envs/Stock_Modeling_Project/lib/site-packages/urllib3/connectionpool.py?line=1052'>1053</a>\u001b[0m     )\n",
      "File \u001b[1;32mc:\\Users\\scott\\anaconda3\\envs\\Stock_Modeling_Project\\lib\\site-packages\\urllib3\\connection.py:358\u001b[0m, in \u001b[0;36mHTTPSConnection.connect\u001b[1;34m(self)\u001b[0m\n\u001b[0;32m    <a href='file:///c%3A/Users/scott/anaconda3/envs/Stock_Modeling_Project/lib/site-packages/urllib3/connection.py?line=355'>356</a>\u001b[0m \u001b[39mdef\u001b[39;00m \u001b[39mconnect\u001b[39m(\u001b[39mself\u001b[39m):\n\u001b[0;32m    <a href='file:///c%3A/Users/scott/anaconda3/envs/Stock_Modeling_Project/lib/site-packages/urllib3/connection.py?line=356'>357</a>\u001b[0m     \u001b[39m# Add certificate verification\u001b[39;00m\n\u001b[1;32m--> <a href='file:///c%3A/Users/scott/anaconda3/envs/Stock_Modeling_Project/lib/site-packages/urllib3/connection.py?line=357'>358</a>\u001b[0m     \u001b[39mself\u001b[39m\u001b[39m.\u001b[39msock \u001b[39m=\u001b[39m conn \u001b[39m=\u001b[39m \u001b[39mself\u001b[39;49m\u001b[39m.\u001b[39;49m_new_conn()\n\u001b[0;32m    <a href='file:///c%3A/Users/scott/anaconda3/envs/Stock_Modeling_Project/lib/site-packages/urllib3/connection.py?line=358'>359</a>\u001b[0m     hostname \u001b[39m=\u001b[39m \u001b[39mself\u001b[39m\u001b[39m.\u001b[39mhost\n\u001b[0;32m    <a href='file:///c%3A/Users/scott/anaconda3/envs/Stock_Modeling_Project/lib/site-packages/urllib3/connection.py?line=359'>360</a>\u001b[0m     tls_in_tls \u001b[39m=\u001b[39m \u001b[39mFalse\u001b[39;00m\n",
      "File \u001b[1;32mc:\\Users\\scott\\anaconda3\\envs\\Stock_Modeling_Project\\lib\\site-packages\\urllib3\\connection.py:174\u001b[0m, in \u001b[0;36mHTTPConnection._new_conn\u001b[1;34m(self)\u001b[0m\n\u001b[0;32m    <a href='file:///c%3A/Users/scott/anaconda3/envs/Stock_Modeling_Project/lib/site-packages/urllib3/connection.py?line=170'>171</a>\u001b[0m     extra_kw[\u001b[39m\"\u001b[39m\u001b[39msocket_options\u001b[39m\u001b[39m\"\u001b[39m] \u001b[39m=\u001b[39m \u001b[39mself\u001b[39m\u001b[39m.\u001b[39msocket_options\n\u001b[0;32m    <a href='file:///c%3A/Users/scott/anaconda3/envs/Stock_Modeling_Project/lib/site-packages/urllib3/connection.py?line=172'>173</a>\u001b[0m \u001b[39mtry\u001b[39;00m:\n\u001b[1;32m--> <a href='file:///c%3A/Users/scott/anaconda3/envs/Stock_Modeling_Project/lib/site-packages/urllib3/connection.py?line=173'>174</a>\u001b[0m     conn \u001b[39m=\u001b[39m connection\u001b[39m.\u001b[39mcreate_connection(\n\u001b[0;32m    <a href='file:///c%3A/Users/scott/anaconda3/envs/Stock_Modeling_Project/lib/site-packages/urllib3/connection.py?line=174'>175</a>\u001b[0m         (\u001b[39mself\u001b[39m\u001b[39m.\u001b[39m_dns_host, \u001b[39mself\u001b[39m\u001b[39m.\u001b[39mport), \u001b[39mself\u001b[39m\u001b[39m.\u001b[39mtimeout, \u001b[39m*\u001b[39m\u001b[39m*\u001b[39mextra_kw\n\u001b[0;32m    <a href='file:///c%3A/Users/scott/anaconda3/envs/Stock_Modeling_Project/lib/site-packages/urllib3/connection.py?line=175'>176</a>\u001b[0m     )\n\u001b[0;32m    <a href='file:///c%3A/Users/scott/anaconda3/envs/Stock_Modeling_Project/lib/site-packages/urllib3/connection.py?line=177'>178</a>\u001b[0m \u001b[39mexcept\u001b[39;00m SocketTimeout:\n\u001b[0;32m    <a href='file:///c%3A/Users/scott/anaconda3/envs/Stock_Modeling_Project/lib/site-packages/urllib3/connection.py?line=178'>179</a>\u001b[0m     \u001b[39mraise\u001b[39;00m ConnectTimeoutError(\n\u001b[0;32m    <a href='file:///c%3A/Users/scott/anaconda3/envs/Stock_Modeling_Project/lib/site-packages/urllib3/connection.py?line=179'>180</a>\u001b[0m         \u001b[39mself\u001b[39m,\n\u001b[0;32m    <a href='file:///c%3A/Users/scott/anaconda3/envs/Stock_Modeling_Project/lib/site-packages/urllib3/connection.py?line=180'>181</a>\u001b[0m         \u001b[39m\"\u001b[39m\u001b[39mConnection to \u001b[39m\u001b[39m%s\u001b[39;00m\u001b[39m timed out. (connect timeout=\u001b[39m\u001b[39m%s\u001b[39;00m\u001b[39m)\u001b[39m\u001b[39m\"\u001b[39m\n\u001b[0;32m    <a href='file:///c%3A/Users/scott/anaconda3/envs/Stock_Modeling_Project/lib/site-packages/urllib3/connection.py?line=181'>182</a>\u001b[0m         \u001b[39m%\u001b[39m (\u001b[39mself\u001b[39m\u001b[39m.\u001b[39mhost, \u001b[39mself\u001b[39m\u001b[39m.\u001b[39mtimeout),\n\u001b[0;32m    <a href='file:///c%3A/Users/scott/anaconda3/envs/Stock_Modeling_Project/lib/site-packages/urllib3/connection.py?line=182'>183</a>\u001b[0m     )\n",
      "File \u001b[1;32mc:\\Users\\scott\\anaconda3\\envs\\Stock_Modeling_Project\\lib\\site-packages\\urllib3\\util\\connection.py:85\u001b[0m, in \u001b[0;36mcreate_connection\u001b[1;34m(address, timeout, source_address, socket_options)\u001b[0m\n\u001b[0;32m     <a href='file:///c%3A/Users/scott/anaconda3/envs/Stock_Modeling_Project/lib/site-packages/urllib3/util/connection.py?line=82'>83</a>\u001b[0m     \u001b[39mif\u001b[39;00m source_address:\n\u001b[0;32m     <a href='file:///c%3A/Users/scott/anaconda3/envs/Stock_Modeling_Project/lib/site-packages/urllib3/util/connection.py?line=83'>84</a>\u001b[0m         sock\u001b[39m.\u001b[39mbind(source_address)\n\u001b[1;32m---> <a href='file:///c%3A/Users/scott/anaconda3/envs/Stock_Modeling_Project/lib/site-packages/urllib3/util/connection.py?line=84'>85</a>\u001b[0m     sock\u001b[39m.\u001b[39;49mconnect(sa)\n\u001b[0;32m     <a href='file:///c%3A/Users/scott/anaconda3/envs/Stock_Modeling_Project/lib/site-packages/urllib3/util/connection.py?line=85'>86</a>\u001b[0m     \u001b[39mreturn\u001b[39;00m sock\n\u001b[0;32m     <a href='file:///c%3A/Users/scott/anaconda3/envs/Stock_Modeling_Project/lib/site-packages/urllib3/util/connection.py?line=87'>88</a>\u001b[0m \u001b[39mexcept\u001b[39;00m socket\u001b[39m.\u001b[39merror \u001b[39mas\u001b[39;00m e:\n",
      "\u001b[1;31mKeyboardInterrupt\u001b[0m: "
     ]
    }
   ],
   "source": [
    "data = pd.read_csv(\"nasdaq_screener_1661698304861.csv\")\n",
    "data.head(5)\n",
    "\n",
    "tickers = data['Symbol']\n",
    "\n",
    "list_of_tickers = []\n",
    "for values in tickers: \n",
    "    tickerData = yf.Ticker(values)\n",
    "    ### 1d = Daily , 1m = Montly, 1y = yearly \n",
    "    tickerDf = tickerData.history(period='1d', start='2010-1-1', end='2022-8-28')\n",
    "    tickerDf['Ticker'] = values\n",
    "    list_of_tickers.append(tickerDf)\n",
    "\n",
    "\n",
    "\n",
    "all_df = pd.concat(list_of_tickers)\n",
    "print(all_df.head(5))\n",
    "\n",
    "\n"
   ]
  },
  {
   "cell_type": "code",
   "execution_count": 22,
   "metadata": {},
   "outputs": [
    {
     "data": {
      "text/html": [
       "<div>\n",
       "<style scoped>\n",
       "    .dataframe tbody tr th:only-of-type {\n",
       "        vertical-align: middle;\n",
       "    }\n",
       "\n",
       "    .dataframe tbody tr th {\n",
       "        vertical-align: top;\n",
       "    }\n",
       "\n",
       "    .dataframe thead th {\n",
       "        text-align: right;\n",
       "    }\n",
       "</style>\n",
       "<table border=\"1\" class=\"dataframe\">\n",
       "  <thead>\n",
       "    <tr style=\"text-align: right;\">\n",
       "      <th></th>\n",
       "      <th>Open</th>\n",
       "      <th>High</th>\n",
       "      <th>Low</th>\n",
       "      <th>Close</th>\n",
       "      <th>Volume</th>\n",
       "      <th>Dividends</th>\n",
       "      <th>Stock Splits</th>\n",
       "      <th>Values</th>\n",
       "    </tr>\n",
       "    <tr>\n",
       "      <th>Date</th>\n",
       "      <th></th>\n",
       "      <th></th>\n",
       "      <th></th>\n",
       "      <th></th>\n",
       "      <th></th>\n",
       "      <th></th>\n",
       "      <th></th>\n",
       "      <th></th>\n",
       "    </tr>\n",
       "  </thead>\n",
       "  <tbody>\n",
       "    <tr>\n",
       "      <th>2010-01-04</th>\n",
       "      <td>20.425383</td>\n",
       "      <td>20.581551</td>\n",
       "      <td>20.256202</td>\n",
       "      <td>20.366821</td>\n",
       "      <td>3815561</td>\n",
       "      <td>0.0</td>\n",
       "      <td>0.0</td>\n",
       "      <td>Output</td>\n",
       "    </tr>\n",
       "    <tr>\n",
       "      <th>2010-01-05</th>\n",
       "      <td>20.308266</td>\n",
       "      <td>20.314773</td>\n",
       "      <td>20.015451</td>\n",
       "      <td>20.145592</td>\n",
       "      <td>4186031</td>\n",
       "      <td>0.0</td>\n",
       "      <td>0.0</td>\n",
       "      <td>Output</td>\n",
       "    </tr>\n",
       "    <tr>\n",
       "      <th>2010-01-06</th>\n",
       "      <td>20.074007</td>\n",
       "      <td>20.171611</td>\n",
       "      <td>20.015443</td>\n",
       "      <td>20.074007</td>\n",
       "      <td>3243779</td>\n",
       "      <td>0.0</td>\n",
       "      <td>0.0</td>\n",
       "      <td>Output</td>\n",
       "    </tr>\n",
       "    <tr>\n",
       "      <th>2010-01-07</th>\n",
       "      <td>20.028466</td>\n",
       "      <td>20.054495</td>\n",
       "      <td>19.846272</td>\n",
       "      <td>20.047989</td>\n",
       "      <td>3095172</td>\n",
       "      <td>0.0</td>\n",
       "      <td>0.0</td>\n",
       "      <td>Output</td>\n",
       "    </tr>\n",
       "    <tr>\n",
       "      <th>2010-01-08</th>\n",
       "      <td>19.937362</td>\n",
       "      <td>20.074009</td>\n",
       "      <td>19.781196</td>\n",
       "      <td>20.041473</td>\n",
       "      <td>3733918</td>\n",
       "      <td>0.0</td>\n",
       "      <td>0.0</td>\n",
       "      <td>Output</td>\n",
       "    </tr>\n",
       "    <tr>\n",
       "      <th>...</th>\n",
       "      <td>...</td>\n",
       "      <td>...</td>\n",
       "      <td>...</td>\n",
       "      <td>...</td>\n",
       "      <td>...</td>\n",
       "      <td>...</td>\n",
       "      <td>...</td>\n",
       "      <td>...</td>\n",
       "    </tr>\n",
       "    <tr>\n",
       "      <th>2020-01-17</th>\n",
       "      <td>88.470015</td>\n",
       "      <td>88.774844</td>\n",
       "      <td>87.722684</td>\n",
       "      <td>88.617516</td>\n",
       "      <td>3718300</td>\n",
       "      <td>0.0</td>\n",
       "      <td>0.0</td>\n",
       "      <td>Output</td>\n",
       "    </tr>\n",
       "    <tr>\n",
       "      <th>2020-01-21</th>\n",
       "      <td>88.302855</td>\n",
       "      <td>88.647018</td>\n",
       "      <td>87.968520</td>\n",
       "      <td>88.116020</td>\n",
       "      <td>2697400</td>\n",
       "      <td>0.0</td>\n",
       "      <td>0.0</td>\n",
       "      <td>Output</td>\n",
       "    </tr>\n",
       "    <tr>\n",
       "      <th>2020-01-22</th>\n",
       "      <td>88.440523</td>\n",
       "      <td>89.128849</td>\n",
       "      <td>88.342184</td>\n",
       "      <td>88.627350</td>\n",
       "      <td>1665800</td>\n",
       "      <td>0.0</td>\n",
       "      <td>0.0</td>\n",
       "      <td>Output</td>\n",
       "    </tr>\n",
       "    <tr>\n",
       "      <th>2020-01-23</th>\n",
       "      <td>88.125863</td>\n",
       "      <td>88.479862</td>\n",
       "      <td>87.181869</td>\n",
       "      <td>87.585030</td>\n",
       "      <td>1228300</td>\n",
       "      <td>0.0</td>\n",
       "      <td>0.0</td>\n",
       "      <td>Output</td>\n",
       "    </tr>\n",
       "    <tr>\n",
       "      <th>2020-01-24</th>\n",
       "      <td>87.958676</td>\n",
       "      <td>87.968511</td>\n",
       "      <td>86.119858</td>\n",
       "      <td>86.788521</td>\n",
       "      <td>1164500</td>\n",
       "      <td>0.0</td>\n",
       "      <td>0.0</td>\n",
       "      <td>Output</td>\n",
       "    </tr>\n",
       "  </tbody>\n",
       "</table>\n",
       "<p>2532 rows × 8 columns</p>\n",
       "</div>"
      ],
      "text/plain": [
       "                 Open       High        Low      Close   Volume  Dividends  \\\n",
       "Date                                                                         \n",
       "2010-01-04  20.425383  20.581551  20.256202  20.366821  3815561        0.0   \n",
       "2010-01-05  20.308266  20.314773  20.015451  20.145592  4186031        0.0   \n",
       "2010-01-06  20.074007  20.171611  20.015443  20.074007  3243779        0.0   \n",
       "2010-01-07  20.028466  20.054495  19.846272  20.047989  3095172        0.0   \n",
       "2010-01-08  19.937362  20.074009  19.781196  20.041473  3733918        0.0   \n",
       "...               ...        ...        ...        ...      ...        ...   \n",
       "2020-01-17  88.470015  88.774844  87.722684  88.617516  3718300        0.0   \n",
       "2020-01-21  88.302855  88.647018  87.968520  88.116020  2697400        0.0   \n",
       "2020-01-22  88.440523  89.128849  88.342184  88.627350  1665800        0.0   \n",
       "2020-01-23  88.125863  88.479862  87.181869  87.585030  1228300        0.0   \n",
       "2020-01-24  87.958676  87.968511  86.119858  86.788521  1164500        0.0   \n",
       "\n",
       "            Stock Splits  Values  \n",
       "Date                              \n",
       "2010-01-04           0.0  Output  \n",
       "2010-01-05           0.0  Output  \n",
       "2010-01-06           0.0  Output  \n",
       "2010-01-07           0.0  Output  \n",
       "2010-01-08           0.0  Output  \n",
       "...                  ...     ...  \n",
       "2020-01-17           0.0  Output  \n",
       "2020-01-21           0.0  Output  \n",
       "2020-01-22           0.0  Output  \n",
       "2020-01-23           0.0  Output  \n",
       "2020-01-24           0.0  Output  \n",
       "\n",
       "[2532 rows x 8 columns]"
      ]
     },
     "execution_count": 22,
     "metadata": {},
     "output_type": "execute_result"
    }
   ],
   "source": [
    "tickerDf['Values'] = 'Output'\n",
    "tickerDf"
   ]
  },
  {
   "cell_type": "code",
   "execution_count": null,
   "metadata": {},
   "outputs": [],
   "source": []
  }
 ],
 "metadata": {
  "interpreter": {
   "hash": "ab7bb45c135c3472cc6189964394c79c1f92c99736f74739b0d436b2cb9c06b6"
  },
  "kernelspec": {
   "display_name": "Python 3.9.12 ('Stock_Modeling_Project')",
   "language": "python",
   "name": "python3"
  },
  "language_info": {
   "codemirror_mode": {
    "name": "ipython",
    "version": 3
   },
   "file_extension": ".py",
   "mimetype": "text/x-python",
   "name": "python",
   "nbconvert_exporter": "python",
   "pygments_lexer": "ipython3",
   "version": "3.9.12"
  },
  "orig_nbformat": 4
 },
 "nbformat": 4,
 "nbformat_minor": 2
}
